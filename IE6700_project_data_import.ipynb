{
 "cells": [
  {
   "cell_type": "markdown",
   "id": "3224937e-5042-43d8-b112-060fa8b240c6",
   "metadata": {},
   "source": [
    "# Final Project for Databasemanagemtn"
   ]
  },
  {
   "cell_type": "code",
   "execution_count": 3,
   "id": "ee480c75-c233-4b23-af16-6575005daf9f",
   "metadata": {},
   "outputs": [
    {
     "name": "stdout",
     "output_type": "stream",
     "text": [
      "Collecting pymysql\n",
      "  Downloading PyMySQL-1.0.3-py3-none-any.whl (43 kB)\n",
      "\u001b[2K     \u001b[90m━━━━━━━━━━━━━━━━━━━━━━━━━━━━━━━━━━━━━━━━\u001b[0m \u001b[32m43.7/43.7 kB\u001b[0m \u001b[31m1.0 MB/s\u001b[0m eta \u001b[36m0:00:00\u001b[0m\n",
      "\u001b[?25hInstalling collected packages: pymysql\n",
      "Successfully installed pymysql-1.0.3\n"
     ]
    }
   ],
   "source": [
    "!pip install pymysql"
   ]
  },
  {
   "cell_type": "code",
   "execution_count": 1,
   "id": "0e1f71f1-2b71-4f8b-b80d-8fcf4dbf6878",
   "metadata": {},
   "outputs": [],
   "source": [
    "import pymysql\n",
    "import pandas as pd"
   ]
  },
  {
   "cell_type": "code",
   "execution_count": 26,
   "id": "bb50758d-d840-4a2b-80da-08a34bca2a9e",
   "metadata": {},
   "outputs": [],
   "source": [
    "def create_database():\n",
    "    # connect to default database\n",
    "    conn = pymysql.connect(host='127.0.0.1',port=int(3306),user='root', passwd='') \n",
    "    cur = conn.cursor()\n",
    "    \n",
    "    #create sparkify database with UTF8 encoding\n",
    "    cur.execute(\"DROP DATABASE IF Exists original_db\")\n",
    "    cur.execute(\"CREATE DATABASE original_db\")\n",
    "    \n",
    "    #close connection to default database\n",
    "    conn.close()\n",
    "    \n",
    "    #connect to sparkify database\n",
    "    conn = pymysql.connect(host='127.0.0.1',port=int(3306),user='root', passwd='', db = 'original_db')\n",
    "    cur = conn.cursor()\n",
    "\n",
    "    return cur, conn"
   ]
  },
  {
   "cell_type": "code",
   "execution_count": 5,
   "id": "4ba7fbf0-c716-4c7d-9734-d22db8abfcfe",
   "metadata": {},
   "outputs": [],
   "source": [
    "def drop_tables(cur, conn):\n",
    "    for query in drop_table_queries:\n",
    "        cur.execute(query)\n",
    "        conn.commit()"
   ]
  },
  {
   "cell_type": "code",
   "execution_count": 6,
   "id": "9ba5f2be-56e4-4008-ae05-bedbe19d77b5",
   "metadata": {},
   "outputs": [],
   "source": [
    "def create_tables(cur, conn):\n",
    "    for query in create_table_queries:\n",
    "        cur.execute(query)\n",
    "        conn.commit()"
   ]
  },
  {
   "cell_type": "code",
   "execution_count": 7,
   "id": "d0372734-5e69-4302-86ad-c274852d86c5",
   "metadata": {},
   "outputs": [],
   "source": [
    "holidays_events = pd.read_csv('/Users/zhengzheng/Desktop/IE 6700 SQL/final_project/data_table/holidays_events.csv')\n",
    "oil = pd.read_csv('/Users/zhengzheng/Desktop/IE 6700 SQL/final_project/data_table/oil.csv')\n",
    "stores = pd.read_csv('/Users/zhengzheng/Desktop/IE 6700 SQL/final_project/data_table/stores.csv')\n",
    "train = pd.read_csv('/Users/zhengzheng/Desktop/IE 6700 SQL/final_project/data_table/train.csv')\n",
    "transactions = pd.read_csv('/Users/zhengzheng/Desktop/IE 6700 SQL/final_project/data_table/transactions.csv')"
   ]
  },
  {
   "cell_type": "code",
   "execution_count": 8,
   "id": "17505df2-9bd7-4fda-8331-5ad6c0ef2f4d",
   "metadata": {},
   "outputs": [],
   "source": [
    "holidays_events = holidays_events.drop_duplicates().dropna()\n",
    "oil = oil[['date', 'dcoilwtico']].drop_duplicates().dropna()\n",
    "stores = stores[['store_nbr', 'city', 'state', 'type', 'cluster']].drop_duplicates().dropna()\n",
    "train = train[['id', 'date', 'store_nbr', 'family', 'sales', 'onpromotion']].drop_duplicates().dropna()\n",
    "transactions = transactions[['date', 'store_nbr', 'transactions']].drop_duplicates().dropna()"
   ]
  },
  {
   "cell_type": "code",
   "execution_count": 9,
   "id": "ce4edaee-669e-4e9f-8fa3-6a2f4038954d",
   "metadata": {},
   "outputs": [
    {
     "name": "stdout",
     "output_type": "stream",
     "text": [
      "Index(['date', 'type', 'locale', 'locale_name', 'description', 'transferred'], dtype='object')\n",
      "Index(['date', 'dcoilwtico'], dtype='object')\n",
      "Index(['store_nbr', 'city', 'state', 'type', 'cluster'], dtype='object')\n",
      "Index(['id', 'date', 'store_nbr', 'family', 'sales', 'onpromotion'], dtype='object')\n",
      "Index(['date', 'store_nbr', 'transactions'], dtype='object')\n"
     ]
    }
   ],
   "source": [
    "print(holidays_events.columns)\n",
    "print(oil.columns)\n",
    "print(stores.columns)\n",
    "print(train.columns)\n",
    "print(transactions.columns)"
   ]
  },
  {
   "cell_type": "code",
   "execution_count": 32,
   "id": "997bc1f6-ee74-45db-9707-7a787f81f00c",
   "metadata": {},
   "outputs": [],
   "source": [
    "cur, conn = create_database()"
   ]
  },
  {
   "cell_type": "code",
   "execution_count": 48,
   "id": "74feca3c-3b25-49c3-aa43-1f6d732a491e",
   "metadata": {},
   "outputs": [
    {
     "data": {
      "text/plain": [
       "date           object\n",
       "type           object\n",
       "locale         object\n",
       "locale_name    object\n",
       "description    object\n",
       "transferred      bool\n",
       "dtype: object"
      ]
     },
     "execution_count": 48,
     "metadata": {},
     "output_type": "execute_result"
    }
   ],
   "source": [
    "holidays_events.dtypes"
   ]
  },
  {
   "cell_type": "code",
   "execution_count": 55,
   "id": "84cd91a2-ead2-420e-8b4a-99c666ea9f9b",
   "metadata": {},
   "outputs": [],
   "source": [
    "holidays_events_table_create = (\"\"\"\n",
    "CREATE TABLE IF NOT EXISTS holidays_events(\n",
    "date DATE,\n",
    "type VARCHAR(225),\n",
    "locale VARCHAR(225),\n",
    "locale_name VARCHAR(225),\n",
    "description VARCHAR(225),\n",
    "transferred TINYINT(1) NOT NULL DEFAULT 0\n",
    ")\"\"\")\n",
    "cur.execute(holidays_events_table_create)\n",
    "conn.commit()"
   ]
  },
  {
   "cell_type": "code",
   "execution_count": 56,
   "id": "326d0805-1ef2-4573-b67a-2901db0ca090",
   "metadata": {},
   "outputs": [],
   "source": [
    "holidays_events_table_insert = (\"\"\"INSERT INTO holidays_events(\n",
    "date,\n",
    "type,\n",
    "locale,\n",
    "locale_name,\n",
    "description,\n",
    "transferred)\n",
    "VALUES(%s, %s, %s, %s, %s, %s)\n",
    "\"\"\")\n",
    "\n",
    "for i, row in holidays_events.iterrows():\n",
    "    cur.execute(holidays_events_table_insert, tuple(row))\n",
    "    \n",
    "conn.commit()"
   ]
  },
  {
   "cell_type": "code",
   "execution_count": 3,
   "id": "10fbdaf2-ff9b-4de4-831a-cd5079fbf4fa",
   "metadata": {},
   "outputs": [],
   "source": [
    "oil_table_create = (\"\"\"CREATE TABLE IF NOT EXISTS oil(\n",
    "date DATE,\n",
    "dcoilwtico DECIMAL(10,2),\n",
    "PRIMARY KEY(date))\"\"\")\n",
    "cur.execute(oil_table_create)\n",
    "conn.commit()"
   ]
  },
  {
   "cell_type": "code",
   "execution_count": 11,
   "id": "e5b6faa8-7005-42f5-ab83-13a8363269be",
   "metadata": {},
   "outputs": [],
   "source": [
    "oil_table_insert = (\"\"\"INSERT INTO oil(\n",
    "date,\n",
    "dcoilwtico)\n",
    "VALUES(%s, %s)\n",
    "\"\"\")\n",
    "\n",
    "for i, row in oil.iterrows():\n",
    "    cur.execute(oil_table_insert, tuple(row))\n",
    "    \n",
    "conn.commit()"
   ]
  },
  {
   "cell_type": "code",
   "execution_count": 12,
   "id": "bb415f30-a20d-4840-9e6e-1653999ca33a",
   "metadata": {},
   "outputs": [],
   "source": [
    "stores_table_create = (\"\"\"CREATE TABLE IF NOT EXISTS stores(\n",
    "store_nbr INT,\n",
    "city VARCHAR(225),\n",
    "state VARCHAR(225),\n",
    "type VARCHAR(225),\n",
    "cluster INT,\n",
    "PRIMARY KEY(store_nbr))\"\"\")\n",
    "cur.execute(stores_table_create )\n",
    "conn.commit()"
   ]
  },
  {
   "cell_type": "code",
   "execution_count": 13,
   "id": "290ad7f4-0b73-4e48-b272-29a316e5e8a9",
   "metadata": {},
   "outputs": [],
   "source": [
    "stores_table_insert = (\"\"\"INSERT INTO stores(\n",
    "store_nbr,\n",
    "city,\n",
    "state,\n",
    "type,\n",
    "cluster)\n",
    "VALUES(%s, %s, %s, %s, %s)\n",
    "\"\"\")\n",
    "\n",
    "for i, row in stores.iterrows():\n",
    "    cur.execute(stores_table_insert, tuple(row))\n",
    "    \n",
    "conn.commit()"
   ]
  },
  {
   "cell_type": "code",
   "execution_count": 14,
   "id": "129be96b-dc60-4863-af32-2dce5dd03b77",
   "metadata": {},
   "outputs": [],
   "source": [
    "train_table_create = (\"\"\"CREATE TABLE IF NOT EXISTS train(\n",
    "id INT,\n",
    "date DATE,\n",
    "store_nbr INT,\n",
    "family VARCHAR(225),\n",
    "sales DECIMAL(12,2),\n",
    "onpromotion DECIMAL(12,2),\n",
    "PRIMARY KEY(id))\"\"\")\n",
    "cur.execute(train_table_create)\n",
    "conn.commit()"
   ]
  },
  {
   "cell_type": "code",
   "execution_count": 15,
   "id": "23e1bb06-a7f5-4dda-9c3a-2be8767390c1",
   "metadata": {},
   "outputs": [],
   "source": [
    "train_table_insert = (\"\"\"INSERT INTO train(\n",
    "id,\n",
    "date,\n",
    "store_nbr,\n",
    "family,\n",
    "sales,\n",
    "onpromotion)\n",
    "VALUES(%s, %s, %s, %s, %s, %s)\n",
    "\"\"\")\n",
    "\n",
    "for i, row in train.iterrows():\n",
    "    cur.execute(train_table_insert, tuple(row))\n",
    "    \n",
    "conn.commit()"
   ]
  },
  {
   "cell_type": "code",
   "execution_count": 16,
   "id": "d188f763-0f1c-4bc8-ad12-8f64db562628",
   "metadata": {},
   "outputs": [],
   "source": [
    "transactions_table_create = (\"\"\"CREATE TABLE IF NOT EXISTS transactions(\n",
    "date DATE,\n",
    "store_nbr INT,\n",
    "transactions DECIMAL(12,2)\n",
    ")\"\"\")\n",
    "cur.execute(transactions_table_create)\n",
    "conn.commit()"
   ]
  },
  {
   "cell_type": "code",
   "execution_count": 17,
   "id": "20b3761e-ec00-4346-bf34-373bc191cd47",
   "metadata": {},
   "outputs": [],
   "source": [
    "transactions_table_insert = (\"\"\"INSERT INTO transactions(\n",
    "date,\n",
    "store_nbr,\n",
    "transactions)\n",
    "VALUES(%s, %s, %s)\n",
    "\"\"\")\n",
    "\n",
    "for i, row in transactions.iterrows():\n",
    "    cur.execute(transactions_table_insert, tuple(row))\n",
    "    \n",
    "conn.commit()"
   ]
  },
  {
   "cell_type": "code",
   "execution_count": null,
   "id": "926f34b6-68b3-48a1-9e79-f2461092406b",
   "metadata": {},
   "outputs": [],
   "source": []
  },
  {
   "cell_type": "code",
   "execution_count": null,
   "id": "4d79f71a-e62f-4fa2-abf9-54036d07a4a9",
   "metadata": {},
   "outputs": [],
   "source": []
  },
  {
   "cell_type": "code",
   "execution_count": null,
   "id": "934d15bf-15ba-413c-b55e-07a6b0ec8a5c",
   "metadata": {},
   "outputs": [],
   "source": []
  },
  {
   "cell_type": "code",
   "execution_count": null,
   "id": "b95a6539-62aa-4da7-ac64-52000513ae66",
   "metadata": {},
   "outputs": [],
   "source": []
  },
  {
   "cell_type": "code",
   "execution_count": null,
   "id": "15616124-c369-4396-b8ac-4540bf17d1fc",
   "metadata": {},
   "outputs": [],
   "source": []
  }
 ],
 "metadata": {
  "kernelspec": {
   "display_name": "Python 3 (ipykernel)",
   "language": "python",
   "name": "python3"
  },
  "language_info": {
   "codemirror_mode": {
    "name": "ipython",
    "version": 3
   },
   "file_extension": ".py",
   "mimetype": "text/x-python",
   "name": "python",
   "nbconvert_exporter": "python",
   "pygments_lexer": "ipython3",
   "version": "3.9.13"
  }
 },
 "nbformat": 4,
 "nbformat_minor": 5
}
